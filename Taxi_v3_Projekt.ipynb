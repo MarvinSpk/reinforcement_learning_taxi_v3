{
  "nbformat": 4,
  "nbformat_minor": 0,
  "metadata": {
    "colab": {
      "provenance": [],
      "gpuType": "T4"
    },
    "kernelspec": {
      "name": "python3",
      "display_name": "Python 3"
    },
    "language_info": {
      "name": "python"
    }
  },
  "cells": [
    {
      "cell_type": "code",
      "source": [
        "#Import der erforderlichen Module\n",
        "import gym\n",
        "import numpy as np\n",
        "import random\n",
        "import matplotlib.pyplot as plt\n",
        "from keras.optimizers import Adam\n",
        "from keras.layers import Dense\n",
        "from keras.models import Sequential\n",
        "from collections import deque"
      ],
      "metadata": {
        "id": "C1r8WpgGm9q_"
      },
      "execution_count": null,
      "outputs": []
    },
    {
      "cell_type": "markdown",
      "source": [
        "Der folgende Code ist von diesen Quellen inspiriert:\n",
        "- https://huggingface.co/learn/deep-rl-course/unit2/hands-on?fw=pt"
      ],
      "metadata": {
        "id": "tKEqbOkTnkQ0"
      }
    },
    {
      "cell_type": "code",
      "source": [
        "#Initalisierung der Variablen\n",
        "\n",
        "#Umgebung\n",
        "env = gym.make(\"Taxi-v3\", render_mode=\"rgb_array\")\n",
        "state_size = env.observation_space.n\n",
        "action_size = env.action_space.n\n",
        "gamma = 0.95\n",
        "\n",
        "# Training Parameter\n",
        "episodes = 10             # Mehr Episoden ohne externe Rechenleistung nicht möglich\n",
        "learning_rate = 0.7\n",
        "batch_size = 32\n",
        "memory_buffer = deque(maxlen=2500)\n",
        "\n",
        "# Evaluation Parameter\n",
        "reward_lst=[]\n",
        "\n",
        "# Exploration Parameter\n",
        "max_epsilon = 1.0\n",
        "min_epsilon = 0.05\n",
        "decay_rate = 0.0005\n",
        "exploration_rate = 1.0"
      ],
      "metadata": {
        "id": "uaw3j5-2nF_w",
        "colab": {
          "base_uri": "https://localhost:8080/"
        },
        "outputId": "cd5a906a-6641-4abd-83b8-91e8e8f03545"
      },
      "execution_count": 45,
      "outputs": [
        {
          "output_type": "stream",
          "name": "stderr",
          "text": [
            "/usr/local/lib/python3.10/dist-packages/gym/core.py:317: DeprecationWarning: \u001b[33mWARN: Initializing wrapper in old step API which returns one bool instead of two. It is recommended to set `new_step_api=True` to use new step API. This will be the default behaviour in future.\u001b[0m\n",
            "  deprecation(\n",
            "/usr/local/lib/python3.10/dist-packages/gym/wrappers/step_api_compatibility.py:39: DeprecationWarning: \u001b[33mWARN: Initializing environment in old step API which returns one bool instead of two. It is recommended to set `new_step_api=True` to use new step API. This will be the default behaviour in future.\u001b[0m\n",
            "  deprecation(\n"
          ]
        }
      ]
    },
    {
      "cell_type": "markdown",
      "source": [
        "Der folgende Code ist von diesen Quellen inspiriert:\n",
        "- https://github.com/hamedmokazemi/DeepQLearning_FrozenLake_1\n",
        "- https://github.com/keon/deep-q-learning/tree/master"
      ],
      "metadata": {
        "id": "w10gSJh1mGhY"
      }
    },
    {
      "cell_type": "code",
      "source": [
        "#DQN Agent\n",
        "class DQN_Agent:\n",
        "  def __init__(self, state_size, action_size, memory_buffer, learning_rate, exploration_rate, min_epsilon, max_epsilon, decay_rate, gamma):\n",
        "          self.state_size= state_size\n",
        "          self.action_size= action_size\n",
        "          self.memory = memory_buffer\n",
        "          self.learning_rate = learning_rate\n",
        "          self.epsilon = exploration_rate\n",
        "          self.min_eps = min_epsilon\n",
        "          self.max_eps = max_epsilon\n",
        "          self.eps_decay = decay_rate\n",
        "          self.gamma = gamma\n",
        "          self.model = self.model()\n",
        "\n",
        "  def model(self):\n",
        "          model = Sequential()\n",
        "          model.add(Dense(32, input_dim=self.state_size, activation='relu'))\n",
        "          model.add(Dense(64, activation='relu'))\n",
        "          model.add(Dense(32, activation='relu'))\n",
        "          model.add(Dense(self.action_size, activation='linear'))\n",
        "          model.compile(loss='mse', optimizer=Adam(learning_rate=self.learning_rate))\n",
        "          return model\n",
        "\n",
        "  def memorize(self, state, action, reward, next_state, done):\n",
        "        self.memory.append((state, action, reward, next_state, done))\n",
        "\n",
        "  def act(self, state):\n",
        "      if np.random.rand() <= self.epsilon:\n",
        "          return random.randrange(self.action_size)\n",
        "      act_values = self.model.predict(state)\n",
        "      return np.argmax(act_values)\n",
        "\n",
        "  def func_epsilon(self):\n",
        "      self.epsilon = (self.max_eps - self.min_eps) * np.exp(-self.eps_decay*e) + self.min_eps\n",
        "      return self.epsilon\n",
        "\n",
        "  def replay(self,batch_size):\n",
        "      mini_batch = random.sample(self.memory, batch_size)\n",
        "      for next_state, reward, done, state, action in mini_batch:\n",
        "          target= reward\n",
        "          if not done:\n",
        "              target=reward + self.gamma* np.amax(self.model.predict(next_state))\n",
        "          target_f= self.model.predict(state)\n",
        "          target_f[0][action]= target\n",
        "          self.model.fit(state, target_f, epochs=1, verbose=0)\n",
        "\n",
        "      if self.epsilon > self.min_eps:\n",
        "          self.func_epsilon()"
      ],
      "metadata": {
        "id": "gOIlRPhkosOa"
      },
      "execution_count": 46,
      "outputs": []
    },
    {
      "cell_type": "code",
      "source": [
        "#Übergabe der Parameter\n",
        "DQN_Agent = DQN_Agent(state_size, action_size, memory_buffer, learning_rate, exploration_rate, min_epsilon, max_epsilon, decay_rate, gamma)"
      ],
      "metadata": {
        "id": "aQU_qfD-CfTl"
      },
      "execution_count": 47,
      "outputs": []
    },
    {
      "cell_type": "code",
      "source": [
        "#Trainingsschleife des Agenten\n",
        "for e in range(episodes):\n",
        "    state = env.reset()\n",
        "    state_vector = [0]*state_size\n",
        "    state_vector[state] = 1\n",
        "    state= np.reshape(state_vector, [1, state_size])\n",
        "    reward = 0\n",
        "    done = False\n",
        "    while not done:\n",
        "        act = DQN_Agent.act(state)\n",
        "        next_state, reward, done, info = env.step(act)\n",
        "        next_state_vector = [0]*state_size\n",
        "        next_state_vector[next_state] = 1\n",
        "        next_state = np.reshape(next_state_vector, [1, state_size])\n",
        "        DQN_Agent.memorize(next_state, reward, done, state, act)\n",
        "        state = next_state\n",
        "        if done:\n",
        "            print(f'Episode: {e+1:4}/{episodes} , Reward: {reward}')\n",
        "            break\n",
        "    reward_lst.append(reward)\n",
        "\n",
        "    if len(DQN_Agent.memory)> batch_size:\n",
        "        DQN_Agent.replay(batch_size)"
      ],
      "metadata": {
        "id": "Ndgnrg9_B69_"
      },
      "execution_count": null,
      "outputs": []
    },
    {
      "cell_type": "code",
      "source": [
        "# Erzeugen des Index für die X-Achse und festlegen von verschiedenen Farben\n",
        "episode = range(len(reward_lst))\n",
        "colors = ['green' if reward > 0 else 'yellow' if reward == -1 else 'red' for reward in reward_lst]\n",
        "\n",
        "# Erzeugen der Scatterplots\n",
        "plt.scatter(episode, reward_lst, color=colors)\n",
        "plt.xlabel('Episode')\n",
        "plt.ylabel('Reward')\n",
        "plt.show()"
      ],
      "metadata": {
        "colab": {
          "base_uri": "https://localhost:8080/",
          "height": 449
        },
        "id": "fpd05hZxRG9R",
        "outputId": "86d7a3f9-5d1b-405c-dcc3-ddce7e8ae540"
      },
      "execution_count": 52,
      "outputs": [
        {
          "output_type": "display_data",
          "data": {
            "text/plain": [
              "<Figure size 640x480 with 1 Axes>"
            ],
            "image/png": "[encoded data removed]"
          },
          "metadata": {}
        }
      ]
    }
  ]
}